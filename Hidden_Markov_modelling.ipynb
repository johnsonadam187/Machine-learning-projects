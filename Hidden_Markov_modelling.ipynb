{
  "nbformat": 4,
  "nbformat_minor": 0,
  "metadata": {
    "colab": {
      "name": "Hidden Markov modelling.ipynb",
      "provenance": [],
      "collapsed_sections": []
    },
    "kernelspec": {
      "name": "python3",
      "display_name": "Python 3"
    }
  },
  "cells": [
    {
      "cell_type": "code",
      "metadata": {
        "id": "jcwD8wt4NbSm"
      },
      "source": [
        "import tensorflow as tf\r\n",
        "import tensorflow_probability as tfp"
      ],
      "execution_count": null,
      "outputs": []
    },
    {
      "cell_type": "markdown",
      "metadata": {
        "id": "nm2YPcPj2-RA"
      },
      "source": [
        "Markov models are predictive chain models that allow us to predict one thing based on 1) our knowledge of the probability of that specific thing (Transition Probability) and a somewhat related phenomenon (Emission probability). The common examples to explain this usually involve predicting the weather from the current weather state and a related phenomenon (Bill mostly takes a walk on sunny days).\r\n"
      ]
    },
    {
      "cell_type": "code",
      "metadata": {
        "id": "qIjpmxPLNv-R"
      },
      "source": [
        "tfd = tfp.distributions\r\n"
      ],
      "execution_count": null,
      "outputs": []
    },
    {
      "cell_type": "markdown",
      "metadata": {
        "id": "sLCDXRw57G-u"
      },
      "source": [
        "When we think about the possible states the weather can take on, the most simple way to describe it would to be 2 separate states (Sunny and Rainy). But to describe the cycle between these states requires more. It requires a description of the emission probability of values that might be observed (observation_Pr) during each state, and a description of the probability of transitioning between both states (transition_Pr), and a description of the state that it happens to currently be in (initial_Pr). So understanding the descriptions themselves informs us of how to construct them. The initial_Pr can only have two possible values, the data is categorical, therefore we construct a Categorical distribution object. Similarly, the transition_Pr can only have 4 possible states, so the data is also categorical. The emission property (in this instance) has been deemed to be continuous and so we will create a normal distribution object for that."
      ]
    },
    {
      "cell_type": "code",
      "metadata": {
        "id": "WyspRt2KTjFh"
      },
      "source": [
        "initial_Pr = tfd.Categorical(probs=[0.8, 0.2])\r\n",
        "#initially we create a categorical distribution object for rainy [0], and sunny [1]\r\n",
        "transition_Pr = tfd.Categorical(probs=[[0.7, 0.3], [0.2, 0.8]])\r\n",
        "#because there is only 2 states, and only the possiblity of remaining the same or changing\r\n",
        "#to the next state, we can describe the transition probability with a 2 x 2 array\r\n",
        "# here a rainy day has a 70% chance of being followed by another rainy day\r\n",
        "observation_Pr = tfd.Normal(loc=[0.0, 15.0], scale=[5.0, 10.0])\r\n",
        "#here the args loc = mean value for specific state, and scale = stdev for corresponding state"
      ],
      "execution_count": null,
      "outputs": []
    },
    {
      "cell_type": "markdown",
      "metadata": {
        "id": "pFMu6ACkMKsG"
      },
      "source": [
        "Instantiate a model"
      ]
    },
    {
      "cell_type": "code",
      "metadata": {
        "id": "aTM-diUdMFqU"
      },
      "source": [
        "markov_model = tfd.HiddenMarkovModel(initial_distribution=initial_Pr, \r\n",
        "                                     transition_distribution=transition_Pr,\r\n",
        "                                     observation_distribution=observation_Pr, \r\n",
        "                                     num_steps=7)\r\n",
        "# num_steps = how many cycles/days we want to predict for "
      ],
      "execution_count": null,
      "outputs": []
    },
    {
      "cell_type": "markdown",
      "metadata": {
        "id": "H2xW9UJZNv0n"
      },
      "source": [
        "So usually here, especially in sklearn is where we .fit() and .predict off the model. But tensorflow is different (in this instance). Some models are partially defined tensors (graphs). To run them requires a Session. When we are looking to use this model, the stat we are concerned with seeing is the mean probability. So we apply a .mean() function to the model, and then use a tensorflow session to evaluate the model/equation."
      ]
    },
    {
      "cell_type": "code",
      "metadata": {
        "id": "F_7HI_0RM5EL"
      },
      "source": [
        "result = markov_model.mean()\r\n",
        "\r\n"
      ],
      "execution_count": null,
      "outputs": []
    },
    {
      "cell_type": "markdown",
      "metadata": {
        "id": "5jxGuzsiOiNj"
      },
      "source": [
        "Use context management to create and run Session object."
      ]
    },
    {
      "cell_type": "code",
      "metadata": {
        "colab": {
          "base_uri": "https://localhost:8080/"
        },
        "id": "f-9p95StOdu0",
        "outputId": "8a0475aa-d7d7-4e13-d9d0-ab99532fa22b"
      },
      "source": [
        "with tf.compat.v1.Session() as sess:\r\n",
        "  print(result.numpy())\r\n",
        "# each tensor object has built in function, .numpy() that returns the values"
      ],
      "execution_count": null,
      "outputs": [
        {
          "output_type": "stream",
          "text": [
            "[2.9999998 5.9999995 7.4999995 8.25      8.625001  8.812501  8.90625  ]\n"
          ],
          "name": "stdout"
        }
      ]
    },
    {
      "cell_type": "code",
      "metadata": {
        "colab": {
          "base_uri": "https://localhost:8080/"
        },
        "id": "UpGvFBcLPWap",
        "outputId": "6593b2f6-174d-4dbc-b14a-266c4aa01afb"
      },
      "source": [
        "with tf.compat.v1.Session() as sess:\r\n",
        "  print(result.numpy)\r\n",
        "#printing the function itself also gives info on the shape and state of the tensor"
      ],
      "execution_count": null,
      "outputs": [
        {
          "output_type": "stream",
          "text": [
            "<bound method _EagerTensorBase.numpy of <tf.Tensor: shape=(7,), dtype=float32, numpy=\n",
            "array([2.9999998, 5.9999995, 7.4999995, 8.25     , 8.625001 , 8.812501 ,\n",
            "       8.90625  ], dtype=float32)>>\n"
          ],
          "name": "stdout"
        }
      ]
    },
    {
      "cell_type": "code",
      "metadata": {
        "id": "IVG7EvZlP7_w"
      },
      "source": [
        ""
      ],
      "execution_count": null,
      "outputs": []
    }
  ]
}