{
  "nbformat": 4,
  "nbformat_minor": 0,
  "metadata": {
    "colab": {
      "name": "forecasting.ipynb",
      "provenance": [],
      "collapsed_sections": []
    },
    "kernelspec": {
      "name": "python3",
      "display_name": "Python 3"
    }
  },
  "cells": [
    {
      "cell_type": "code",
      "metadata": {
        "id": "c1UxSNNxL7Tg"
      },
      "source": [
        "import tensorflow as tf\r\n",
        "import pandas as pd\r\n",
        "import numpy as np\r\n",
        "import sklearn\r\n",
        "import matplotlib.pyplot as plt\r\n",
        "import seaborn as sns\r\n",
        "import tensorflow_probability as tfp\r\n",
        "import pandas_datareader as web\r\n",
        "from keras import Sequential\r\n",
        "from sklearn.preprocessing import MinMaxScaler\r\n",
        "from sklearn.model_selection import train_test_split\r\n",
        "import math\r\n",
        "from tensorflow.keras.layers import LSTM, Dense"
      ],
      "execution_count": null,
      "outputs": []
    },
    {
      "cell_type": "markdown",
      "metadata": {
        "id": "o5p8DaBsPZWL"
      },
      "source": [
        "Import some data using pandas_datareader. Importing bitcoin data"
      ]
    },
    {
      "cell_type": "code",
      "metadata": {
        "colab": {
          "base_uri": "https://localhost:8080/",
          "height": 235
        },
        "id": "mq7ZhFYfF8zG",
        "outputId": "48a17174-9ea7-4071-cbf0-92243ec9ded4"
      },
      "source": [
        "df1 = web.DataReader(\"BTC-USD\", data_source='yahoo', start='2008-01-01', end='2020-12-30')\r\n",
        "df1.head()"
      ],
      "execution_count": null,
      "outputs": [
        {
          "output_type": "execute_result",
          "data": {
            "text/html": [
              "<div>\n",
              "<style scoped>\n",
              "    .dataframe tbody tr th:only-of-type {\n",
              "        vertical-align: middle;\n",
              "    }\n",
              "\n",
              "    .dataframe tbody tr th {\n",
              "        vertical-align: top;\n",
              "    }\n",
              "\n",
              "    .dataframe thead th {\n",
              "        text-align: right;\n",
              "    }\n",
              "</style>\n",
              "<table border=\"1\" class=\"dataframe\">\n",
              "  <thead>\n",
              "    <tr style=\"text-align: right;\">\n",
              "      <th></th>\n",
              "      <th>High</th>\n",
              "      <th>Low</th>\n",
              "      <th>Open</th>\n",
              "      <th>Close</th>\n",
              "      <th>Volume</th>\n",
              "      <th>Adj Close</th>\n",
              "    </tr>\n",
              "    <tr>\n",
              "      <th>Date</th>\n",
              "      <th></th>\n",
              "      <th></th>\n",
              "      <th></th>\n",
              "      <th></th>\n",
              "      <th></th>\n",
              "      <th></th>\n",
              "    </tr>\n",
              "  </thead>\n",
              "  <tbody>\n",
              "    <tr>\n",
              "      <th>2014-09-16</th>\n",
              "      <td>468.174011</td>\n",
              "      <td>452.421997</td>\n",
              "      <td>465.864014</td>\n",
              "      <td>457.334015</td>\n",
              "      <td>21056800</td>\n",
              "      <td>457.334015</td>\n",
              "    </tr>\n",
              "    <tr>\n",
              "      <th>2014-09-17</th>\n",
              "      <td>456.859985</td>\n",
              "      <td>413.104004</td>\n",
              "      <td>456.859985</td>\n",
              "      <td>424.440002</td>\n",
              "      <td>34483200</td>\n",
              "      <td>424.440002</td>\n",
              "    </tr>\n",
              "    <tr>\n",
              "      <th>2014-09-18</th>\n",
              "      <td>427.834991</td>\n",
              "      <td>384.532013</td>\n",
              "      <td>424.102997</td>\n",
              "      <td>394.795990</td>\n",
              "      <td>37919700</td>\n",
              "      <td>394.795990</td>\n",
              "    </tr>\n",
              "    <tr>\n",
              "      <th>2014-09-19</th>\n",
              "      <td>423.295990</td>\n",
              "      <td>389.882996</td>\n",
              "      <td>394.673004</td>\n",
              "      <td>408.903992</td>\n",
              "      <td>36863600</td>\n",
              "      <td>408.903992</td>\n",
              "    </tr>\n",
              "    <tr>\n",
              "      <th>2014-09-20</th>\n",
              "      <td>412.425995</td>\n",
              "      <td>393.181000</td>\n",
              "      <td>408.084991</td>\n",
              "      <td>398.821014</td>\n",
              "      <td>26580100</td>\n",
              "      <td>398.821014</td>\n",
              "    </tr>\n",
              "  </tbody>\n",
              "</table>\n",
              "</div>"
            ],
            "text/plain": [
              "                  High         Low  ...    Volume   Adj Close\n",
              "Date                                ...                      \n",
              "2014-09-16  468.174011  452.421997  ...  21056800  457.334015\n",
              "2014-09-17  456.859985  413.104004  ...  34483200  424.440002\n",
              "2014-09-18  427.834991  384.532013  ...  37919700  394.795990\n",
              "2014-09-19  423.295990  389.882996  ...  36863600  408.903992\n",
              "2014-09-20  412.425995  393.181000  ...  26580100  398.821014\n",
              "\n",
              "[5 rows x 6 columns]"
            ]
          },
          "metadata": {
            "tags": []
          },
          "execution_count": 2
        }
      ]
    },
    {
      "cell_type": "code",
      "metadata": {
        "colab": {
          "base_uri": "https://localhost:8080/"
        },
        "id": "_bD4ukrdQHu-",
        "outputId": "d340b856-18b1-47d4-cb3d-ed821cbd7fdf"
      },
      "source": [
        "df1.shape"
      ],
      "execution_count": null,
      "outputs": [
        {
          "output_type": "execute_result",
          "data": {
            "text/plain": [
              "(2298, 6)"
            ]
          },
          "metadata": {
            "tags": []
          },
          "execution_count": 3
        }
      ]
    },
    {
      "cell_type": "code",
      "metadata": {
        "colab": {
          "base_uri": "https://localhost:8080/",
          "height": 295
        },
        "id": "GMofjhqASE3i",
        "outputId": "967e0451-3e9d-4b77-e67e-8967604c7072"
      },
      "source": [
        "plt.plot(df1.loc[:, \"Close\"])\r\n",
        "plt.title(\"BTC-USD Close Price\")\r\n",
        "plt.xlabel(\"Date\")\r\n",
        "plt.ylabel('USD ($) per Bitcoin')\r\n",
        "plt.show()\r\n"
      ],
      "execution_count": null,
      "outputs": [
        {
          "output_type": "display_data",
          "data": {
            "image/png": "[encoded data removed]",
            "text/plain": [
              "<Figure size 432x288 with 1 Axes>"
            ]
          },
          "metadata": {
            "tags": [],
            "needs_background": "light"
          }
        }
      ]
    },
    {
      "cell_type": "markdown",
      "metadata": {
        "id": "gmsRpa41dGFD"
      },
      "source": [
        "Split the data and convert to numpy arrays"
      ]
    },
    {
      "cell_type": "markdown",
      "metadata": {
        "id": "FBP02xjsffi8"
      },
      "source": [
        "Scale the data"
      ]
    },
    {
      "cell_type": "code",
      "metadata": {
        "id": "aavNrmk5foow"
      },
      "source": [
        "scaler = MinMaxScaler(feature_range=(0,1))\r\n",
        "df_scale = scaler.fit_transform(df1)"
      ],
      "execution_count": null,
      "outputs": []
    },
    {
      "cell_type": "code",
      "metadata": {
        "colab": {
          "base_uri": "https://localhost:8080/",
          "height": 419
        },
        "id": "TojnFDrwhE6S",
        "outputId": "0a43d813-aa4c-4a6d-c20b-02238e3bd989"
      },
      "source": [
        "scaled_df = pd.DataFrame(df_scale, columns=['High', 'Low', \t'Open', 'Close', 'Volume',\t'Adj Close'])\r\n",
        "scaled_df"
      ],
      "execution_count": null,
      "outputs": [
        {
          "output_type": "execute_result",
          "data": {
            "text/html": [
              "<div>\n",
              "<style scoped>\n",
              "    .dataframe tbody tr th:only-of-type {\n",
              "        vertical-align: middle;\n",
              "    }\n",
              "\n",
              "    .dataframe tbody tr th {\n",
              "        vertical-align: top;\n",
              "    }\n",
              "\n",
              "    .dataframe thead th {\n",
              "        text-align: right;\n",
              "    }\n",
              "</style>\n",
              "<table border=\"1\" class=\"dataframe\">\n",
              "  <thead>\n",
              "    <tr style=\"text-align: right;\">\n",
              "      <th></th>\n",
              "      <th>High</th>\n",
              "      <th>Low</th>\n",
              "      <th>Open</th>\n",
              "      <th>Close</th>\n",
              "      <th>Volume</th>\n",
              "      <th>Adj Close</th>\n",
              "    </tr>\n",
              "  </thead>\n",
              "  <tbody>\n",
              "    <tr>\n",
              "      <th>0</th>\n",
              "      <td>0.008833</td>\n",
              "      <td>0.010022</td>\n",
              "      <td>0.010081</td>\n",
              "      <td>0.009688</td>\n",
              "      <td>0.000204</td>\n",
              "      <td>0.009688</td>\n",
              "    </tr>\n",
              "    <tr>\n",
              "      <th>1</th>\n",
              "      <td>0.008443</td>\n",
              "      <td>0.008619</td>\n",
              "      <td>0.009767</td>\n",
              "      <td>0.008546</td>\n",
              "      <td>0.000385</td>\n",
              "      <td>0.008546</td>\n",
              "    </tr>\n",
              "    <tr>\n",
              "      <th>2</th>\n",
              "      <td>0.007443</td>\n",
              "      <td>0.007600</td>\n",
              "      <td>0.008624</td>\n",
              "      <td>0.007518</td>\n",
              "      <td>0.000432</td>\n",
              "      <td>0.007518</td>\n",
              "    </tr>\n",
              "    <tr>\n",
              "      <th>3</th>\n",
              "      <td>0.007287</td>\n",
              "      <td>0.007791</td>\n",
              "      <td>0.007597</td>\n",
              "      <td>0.008007</td>\n",
              "      <td>0.000417</td>\n",
              "      <td>0.008007</td>\n",
              "    </tr>\n",
              "    <tr>\n",
              "      <th>4</th>\n",
              "      <td>0.006913</td>\n",
              "      <td>0.007908</td>\n",
              "      <td>0.008065</td>\n",
              "      <td>0.007658</td>\n",
              "      <td>0.000279</td>\n",
              "      <td>0.007658</td>\n",
              "    </tr>\n",
              "    <tr>\n",
              "      <th>...</th>\n",
              "      <td>...</td>\n",
              "      <td>...</td>\n",
              "      <td>...</td>\n",
              "      <td>...</td>\n",
              "      <td>...</td>\n",
              "      <td>...</td>\n",
              "    </tr>\n",
              "    <tr>\n",
              "      <th>2293</th>\n",
              "      <td>0.967071</td>\n",
              "      <td>0.918688</td>\n",
              "      <td>0.916196</td>\n",
              "      <td>0.905306</td>\n",
              "      <td>0.896469</td>\n",
              "      <td>0.905306</td>\n",
              "    </tr>\n",
              "    <tr>\n",
              "      <th>2294</th>\n",
              "      <td>0.936081</td>\n",
              "      <td>0.928851</td>\n",
              "      <td>0.910665</td>\n",
              "      <td>0.933495</td>\n",
              "      <td>0.661500</td>\n",
              "      <td>0.933495</td>\n",
              "    </tr>\n",
              "    <tr>\n",
              "      <th>2295</th>\n",
              "      <td>0.935448</td>\n",
              "      <td>0.920990</td>\n",
              "      <td>0.938609</td>\n",
              "      <td>0.943127</td>\n",
              "      <td>0.610378</td>\n",
              "      <td>0.943127</td>\n",
              "    </tr>\n",
              "    <tr>\n",
              "      <th>2296</th>\n",
              "      <td>0.989421</td>\n",
              "      <td>0.969965</td>\n",
              "      <td>0.948317</td>\n",
              "      <td>0.994422</td>\n",
              "      <td>0.691584</td>\n",
              "      <td>0.994422</td>\n",
              "    </tr>\n",
              "    <tr>\n",
              "      <th>2297</th>\n",
              "      <td>1.000000</td>\n",
              "      <td>1.000000</td>\n",
              "      <td>1.000000</td>\n",
              "      <td>1.000000</td>\n",
              "      <td>0.630459</td>\n",
              "      <td>1.000000</td>\n",
              "    </tr>\n",
              "  </tbody>\n",
              "</table>\n",
              "<p>2298 rows × 6 columns</p>\n",
              "</div>"
            ],
            "text/plain": [
              "          High       Low      Open     Close    Volume  Adj Close\n",
              "0     0.008833  0.010022  0.010081  0.009688  0.000204   0.009688\n",
              "1     0.008443  0.008619  0.009767  0.008546  0.000385   0.008546\n",
              "2     0.007443  0.007600  0.008624  0.007518  0.000432   0.007518\n",
              "3     0.007287  0.007791  0.007597  0.008007  0.000417   0.008007\n",
              "4     0.006913  0.007908  0.008065  0.007658  0.000279   0.007658\n",
              "...        ...       ...       ...       ...       ...        ...\n",
              "2293  0.967071  0.918688  0.916196  0.905306  0.896469   0.905306\n",
              "2294  0.936081  0.928851  0.910665  0.933495  0.661500   0.933495\n",
              "2295  0.935448  0.920990  0.938609  0.943127  0.610378   0.943127\n",
              "2296  0.989421  0.969965  0.948317  0.994422  0.691584   0.994422\n",
              "2297  1.000000  1.000000  1.000000  1.000000  0.630459   1.000000\n",
              "\n",
              "[2298 rows x 6 columns]"
            ]
          },
          "metadata": {
            "tags": []
          },
          "execution_count": 6
        }
      ]
    },
    {
      "cell_type": "code",
      "metadata": {
        "id": "OaDLhdynniHC"
      },
      "source": [
        "y=scaled_df[\"Close\"]\r\n",
        "x = scaled_df[[\"High\", \"Low\", \"Open\", \"Volume\", \"Adj Close\"]]"
      ],
      "execution_count": null,
      "outputs": []
    },
    {
      "cell_type": "markdown",
      "metadata": {
        "id": "wmHIPyrS3CMo"
      },
      "source": [
        "When we think about how we would predict a value from a list or history of values, we need to specify a window of values (features) that will contribute to the output value (target). Each day that window will move forward one value and the prediction will move along as well. But how would we validate the accuracy of such a model? We have to create a train test split, and create the window values for that period. Then we get it to predict the values, and measure the accuracy. First we have to split the data into training and testing sets. Then create a function to iterate through the sets, and collect the input window values, and the target output values."
      ]
    },
    {
      "cell_type": "code",
      "metadata": {
        "id": "Anm1KkCbs8Pm"
      },
      "source": [
        "# Create the rolling window function\r\n",
        "def rolling_window(input_series, window_size=25):\r\n",
        "  features = []\r\n",
        "  target = []\r\n",
        "  series_len = len(input_series)\r\n",
        "  for index, item in enumerate(input_series):\r\n",
        "    if index < series_len - (window_size +1):\r\n",
        "      win_start = index\r\n",
        "      win_stop = index + window_size\r\n",
        "      target_val = win_stop + 1\r\n",
        "      features.append(np.array(input_series[win_start:win_stop]).reshape(-1, 1))\r\n",
        "      target.append(np.array(input_series[target_val]))\r\n",
        "  return np.array(features), np.array(target).reshape(-1, 1)\r\n",
        "\r\n"
      ],
      "execution_count": null,
      "outputs": []
    },
    {
      "cell_type": "markdown",
      "metadata": {
        "id": "eKSqzawFVEmt"
      },
      "source": [
        "Split the data into training and testing "
      ]
    },
    {
      "cell_type": "code",
      "metadata": {
        "id": "AifQhlfjKMZg"
      },
      "source": [
        "def split_data(data, test_size = 0.2):\r\n",
        "  length = len(data)\r\n",
        "  size = math.ceil(length*(1-test_size))\r\n",
        "  training = data[:size]\r\n",
        "  test = data[size:]\r\n",
        "  return training, test\r\n"
      ],
      "execution_count": null,
      "outputs": []
    },
    {
      "cell_type": "markdown",
      "metadata": {
        "id": "bD9L9cENe3n5"
      },
      "source": [
        "Split our scaled data and process the rolling window function for both datasets"
      ]
    },
    {
      "cell_type": "code",
      "metadata": {
        "colab": {
          "base_uri": "https://localhost:8080/"
        },
        "id": "VU051xXjKkt8",
        "outputId": "f8b7f16b-f82f-4b7f-ad70-8b918ec534f3"
      },
      "source": [
        "training, testing = split_data(y)\r\n",
        "testing.reset_index(drop=True, inplace=True)\r\n",
        "testing"
      ],
      "execution_count": null,
      "outputs": [
        {
          "output_type": "execute_result",
          "data": {
            "text/plain": [
              "0      0.281567\n",
              "1      0.283281\n",
              "2      0.285007\n",
              "3      0.280391\n",
              "4      0.278516\n",
              "         ...   \n",
              "454    0.905306\n",
              "455    0.933495\n",
              "456    0.943127\n",
              "457    0.994422\n",
              "458    1.000000\n",
              "Name: Close, Length: 459, dtype: float64"
            ]
          },
          "metadata": {
            "tags": []
          },
          "execution_count": 10
        }
      ]
    },
    {
      "cell_type": "code",
      "metadata": {
        "id": "xdyrBdXYTGzG"
      },
      "source": [
        "x_train, y_train = rolling_window(training, window_size = 60)\r\n",
        "x_test, y_test = rolling_window(testing, window_size=60)"
      ],
      "execution_count": null,
      "outputs": []
    },
    {
      "cell_type": "markdown",
      "metadata": {
        "id": "t0g64_txhKlw"
      },
      "source": [
        "Check sizes of training and testing data. LSTM Model requires the x data to be 3D. Since there is only 1 output feature the target data will be 1D.\r\n",
        "\r\n"
      ]
    },
    {
      "cell_type": "code",
      "metadata": {
        "colab": {
          "base_uri": "https://localhost:8080/"
        },
        "id": "iJ6skkBpfwk5",
        "outputId": "ce7caacd-3fa8-4f40-bbe7-c4600dee6159"
      },
      "source": [
        "print(x_train.shape, len(y_train))\r\n",
        "print(x_test.shape, len(y_test))"
      ],
      "execution_count": null,
      "outputs": [
        {
          "output_type": "stream",
          "text": [
            "(1778, 60, 1) 1778\n",
            "(398, 60, 1) 398\n"
          ],
          "name": "stdout"
        }
      ]
    },
    {
      "cell_type": "markdown",
      "metadata": {
        "id": "xnWVQP2MpYWA"
      },
      "source": [
        "Build the model"
      ]
    },
    {
      "cell_type": "code",
      "metadata": {
        "id": "tAeCqF7hgVe4"
      },
      "source": [
        "model = Sequential()\r\n",
        "model.add(LSTM(50, return_sequences=True, input_shape = (x_train.shape[1], 1)))\r\n",
        "model.add(LSTM(50, return_sequences=False))\r\n",
        "model.add(Dense(25))\r\n",
        "model.add(Dense(1))"
      ],
      "execution_count": null,
      "outputs": []
    },
    {
      "cell_type": "code",
      "metadata": {
        "id": "38eHsgi4qjOo"
      },
      "source": [
        "model.compile(optimizer='adam', loss='mean_squared_error')"
      ],
      "execution_count": null,
      "outputs": []
    },
    {
      "cell_type": "code",
      "metadata": {
        "colab": {
          "base_uri": "https://localhost:8080/"
        },
        "id": "O7upw3kisZK2",
        "outputId": "713f01dd-d2cf-48cb-8682-d0b3c46f726d"
      },
      "source": [
        "model.fit(x_train, y_train, batch_size=5, epochs=5)"
      ],
      "execution_count": null,
      "outputs": [
        {
          "output_type": "stream",
          "text": [
            "Epoch 1/5\n",
            "356/356 [==============================] - 18s 41ms/step - loss: 0.0014\n",
            "Epoch 2/5\n",
            "356/356 [==============================] - 14s 41ms/step - loss: 5.8146e-04\n",
            "Epoch 3/5\n",
            "356/356 [==============================] - 14s 40ms/step - loss: 4.5015e-04\n",
            "Epoch 4/5\n",
            "356/356 [==============================] - 14s 40ms/step - loss: 4.3346e-04\n",
            "Epoch 5/5\n",
            "356/356 [==============================] - 15s 41ms/step - loss: 3.3775e-04\n"
          ],
          "name": "stdout"
        },
        {
          "output_type": "execute_result",
          "data": {
            "text/plain": [
              "<tensorflow.python.keras.callbacks.History at 0x7f5af49e8b70>"
            ]
          },
          "metadata": {
            "tags": []
          },
          "execution_count": 15
        }
      ]
    },
    {
      "cell_type": "code",
      "metadata": {
        "id": "4C-BJ5rvslqf"
      },
      "source": [
        "preds = model.predict(x_test)"
      ],
      "execution_count": null,
      "outputs": []
    },
    {
      "cell_type": "markdown",
      "metadata": {
        "id": "ZOZO8Be2uhu1"
      },
      "source": [
        "Now we can visualise the prediction vs the actual values. But first we must un-scale the data. We can use the scaler that we created to scale the data. But initially we scaled a dataframe of 6 columns, so to reverse the scaling im going to add the pred series to the original scaled_df and remove the original close column to invert the scaling."
      ]
    },
    {
      "cell_type": "code",
      "metadata": {
        "colab": {
          "base_uri": "https://localhost:8080/"
        },
        "id": "413p8lENuV1a",
        "outputId": "d85c414a-12c4-4d56-9800-9546964a267c"
      },
      "source": [
        "pred_reshape = pd.Series(preds.reshape(1, -1)[0], name=\"LSTM Prediction\")\r\n",
        "df_len = len(pred_reshape)\r\n",
        "df_len = df_len*-1\r\n",
        "pred_scale_df = scaled_df[['High', 'Low', \t'Open', 'Volume',\t'Adj Close']]\r\n",
        "pred_scale_df = pred_scale_df.iloc[df_len:, :]\r\n",
        "pred_scale_df.reset_index(drop=True, inplace=True)\r\n",
        "pred_incl = pd.concat([pred_scale_df, pred_reshape], axis=1)\r\n",
        "pred_incl.shape\r\n"
      ],
      "execution_count": null,
      "outputs": [
        {
          "output_type": "execute_result",
          "data": {
            "text/plain": [
              "(398, 6)"
            ]
          },
          "metadata": {
            "tags": []
          },
          "execution_count": 17
        }
      ]
    },
    {
      "cell_type": "markdown",
      "metadata": {
        "id": "d6XRP7k46VMj"
      },
      "source": [
        "now invert the scaling"
      ]
    },
    {
      "cell_type": "code",
      "metadata": {
        "id": "hyQGJKSWu6x1"
      },
      "source": [
        "pred_array = scaler.inverse_transform(pred_incl)\r\n",
        "pred_df = pd.DataFrame(pred_array, columns = ['High', 'Low', \t'Open', 'Volume',\t'Adj Close', \"Predictions\"])\r\n"
      ],
      "execution_count": null,
      "outputs": []
    },
    {
      "cell_type": "markdown",
      "metadata": {
        "id": "ybCpcalsPHoZ"
      },
      "source": [
        "Now grab the original y_test values"
      ]
    },
    {
      "cell_type": "code",
      "metadata": {
        "colab": {
          "base_uri": "https://localhost:8080/"
        },
        "id": "llC3efJC7Qof",
        "outputId": "de99e50b-c587-427d-b1c5-9e017bb829af"
      },
      "source": [
        "true_val_test = df1.iloc[df_len:, 3]\r\n",
        "true_val_test.shape\r\n"
      ],
      "execution_count": null,
      "outputs": [
        {
          "output_type": "execute_result",
          "data": {
            "text/plain": [
              "(398,)"
            ]
          },
          "metadata": {
            "tags": []
          },
          "execution_count": 19
        }
      ]
    },
    {
      "cell_type": "markdown",
      "metadata": {
        "id": "BsGrBLwXPO2E"
      },
      "source": [
        "now combine into a df and visualise the data"
      ]
    },
    {
      "cell_type": "code",
      "metadata": {
        "colab": {
          "base_uri": "https://localhost:8080/",
          "height": 235
        },
        "id": "xJrcrYMeO1k-",
        "outputId": "74da84e9-9451-4f5e-a46a-2d04b0cc184e"
      },
      "source": [
        "predict = pred_df.loc[:, \"Predictions\"]\r\n",
        "predict.index = true_val_test.index\r\n",
        "testing_df = pd.concat([true_val_test, predict], axis=1, sort=True)\r\n",
        "testing_df.head()"
      ],
      "execution_count": null,
      "outputs": [
        {
          "output_type": "execute_result",
          "data": {
            "text/html": [
              "<div>\n",
              "<style scoped>\n",
              "    .dataframe tbody tr th:only-of-type {\n",
              "        vertical-align: middle;\n",
              "    }\n",
              "\n",
              "    .dataframe tbody tr th {\n",
              "        vertical-align: top;\n",
              "    }\n",
              "\n",
              "    .dataframe thead th {\n",
              "        text-align: right;\n",
              "    }\n",
              "</style>\n",
              "<table border=\"1\" class=\"dataframe\">\n",
              "  <thead>\n",
              "    <tr style=\"text-align: right;\">\n",
              "      <th></th>\n",
              "      <th>Close</th>\n",
              "      <th>Predictions</th>\n",
              "    </tr>\n",
              "    <tr>\n",
              "      <th>Date</th>\n",
              "      <th></th>\n",
              "      <th></th>\n",
              "    </tr>\n",
              "  </thead>\n",
              "  <tbody>\n",
              "    <tr>\n",
              "      <th>2019-11-30</th>\n",
              "      <td>7569.629883</td>\n",
              "      <td>6844.638441</td>\n",
              "    </tr>\n",
              "    <tr>\n",
              "      <th>2019-12-01</th>\n",
              "      <td>7424.292480</td>\n",
              "      <td>7011.327758</td>\n",
              "    </tr>\n",
              "    <tr>\n",
              "      <th>2019-12-02</th>\n",
              "      <td>7321.988281</td>\n",
              "      <td>7061.177011</td>\n",
              "    </tr>\n",
              "    <tr>\n",
              "      <th>2019-12-03</th>\n",
              "      <td>7320.145508</td>\n",
              "      <td>7007.223405</td>\n",
              "    </tr>\n",
              "    <tr>\n",
              "      <th>2019-12-04</th>\n",
              "      <td>7252.034668</td>\n",
              "      <td>6904.581499</td>\n",
              "    </tr>\n",
              "  </tbody>\n",
              "</table>\n",
              "</div>"
            ],
            "text/plain": [
              "                  Close  Predictions\n",
              "Date                                \n",
              "2019-11-30  7569.629883  6844.638441\n",
              "2019-12-01  7424.292480  7011.327758\n",
              "2019-12-02  7321.988281  7061.177011\n",
              "2019-12-03  7320.145508  7007.223405\n",
              "2019-12-04  7252.034668  6904.581499"
            ]
          },
          "metadata": {
            "tags": []
          },
          "execution_count": 20
        }
      ]
    },
    {
      "cell_type": "code",
      "metadata": {
        "colab": {
          "base_uri": "https://localhost:8080/",
          "height": 350
        },
        "id": "8tV-yHSJQT04",
        "outputId": "205a0b2c-a28f-4fe8-d91c-39a5b8d325b8"
      },
      "source": [
        "plt.figure(figsize=(20, 5))\r\n",
        "plt.plot(testing_df.loc[:, \"Close\"], color='blue', label=\"Close\")\r\n",
        "plt.plot(testing_df.loc[:, \"Predictions\"], color= 'red', label=\"Prediction\")\r\n",
        "plt.title(\"True price of BTC-USD vs Prediction\")\r\n",
        "plt.ylabel(\"$ USD per Bitcoin\")\r\n",
        "plt.xlabel(\"Date\")\r\n",
        "plt.legend()\r\n",
        "plt.show()"
      ],
      "execution_count": null,
      "outputs": [
        {
          "output_type": "display_data",
          "data": {
            "image/png": "[encoded data removed]",
            "text/plain": [
              "<Figure size 1440x360 with 1 Axes>"
            ]
          },
          "metadata": {
            "tags": [],
            "needs_background": "light"
          }
        }
      ]
    },
    {
      "cell_type": "markdown",
      "metadata": {
        "id": "Gd4fXWhmSx9V"
      },
      "source": [
        "But this doesnt provide a quantitative measure of the accuracy. Root mean squared error (RMSE) is commonly used as a metric for understanding the distance between the true value and an estimation. RMSE is the average of the distance from the predicted value, to the true value, and squared to remove negative values, and rooted to negate the square."
      ]
    },
    {
      "cell_type": "code",
      "metadata": {
        "colab": {
          "base_uri": "https://localhost:8080/"
        },
        "id": "BH7Hz3ZXQZQi",
        "outputId": "fdb93a49-ec8c-4025-a746-b0914628b90f"
      },
      "source": [
        "testing_df[\"Difference\"] = testing_df[\"Predictions\"] - testing_df[\"Close\"]\r\n",
        "mean_error = np.mean(testing_df[\"Difference\"])\r\n",
        "squared_mean_error = mean_error*mean_error\r\n",
        "rmse = np.sqrt(squared_mean_error)\r\n",
        "rmse"
      ],
      "execution_count": null,
      "outputs": [
        {
          "output_type": "execute_result",
          "data": {
            "text/plain": [
              "1170.931843222932"
            ]
          },
          "metadata": {
            "tags": []
          },
          "execution_count": 22
        }
      ]
    },
    {
      "cell_type": "markdown",
      "metadata": {
        "id": "WRbxDjaeWF3O"
      },
      "source": [
        "So the average error we can expect is around $520 USD per obersavation. So probably not awesome enough to invest lots of money, yet. Just to see how that equates to the share price we can take that as a proportion of the final observation."
      ]
    },
    {
      "cell_type": "code",
      "metadata": {
        "colab": {
          "base_uri": "https://localhost:8080/"
        },
        "id": "I_qV6_gCVlLd",
        "outputId": "5187b517-79a7-4e7f-8bdc-b18045108329"
      },
      "source": [
        "final_price = testing_df.iloc[-1, 0]\r\n",
        "final_price"
      ],
      "execution_count": null,
      "outputs": [
        {
          "output_type": "execute_result",
          "data": {
            "text/plain": [
              "29001.720703125"
            ]
          },
          "metadata": {
            "tags": []
          },
          "execution_count": 23
        }
      ]
    },
    {
      "cell_type": "code",
      "metadata": {
        "colab": {
          "base_uri": "https://localhost:8080/"
        },
        "id": "ukFB96yNXBGs",
        "outputId": "4f7c84a0-35bf-4760-d49d-5071b8d919e4"
      },
      "source": [
        "proportion_error = rmse/final_price*100\r\n",
        "print(f\"Proportion Error: {proportion_error:.0f}%\")"
      ],
      "execution_count": null,
      "outputs": [
        {
          "output_type": "stream",
          "text": [
            "Proportion Error: 4%\n"
          ],
          "name": "stdout"
        }
      ]
    },
    {
      "cell_type": "markdown",
      "metadata": {
        "id": "zqlb2uM9kIyi"
      },
      "source": [
        "So obviously this analysis only used a value window to predict the values up until today, because we wanted to check it against the known values. But given that the window size (n) only extends to one observation away from the end of the data, if we use the window size to the end of the dataset, that will effectively predict the next days value. So we can repeat the process quickly and predict tomorrows value +- the error."
      ]
    },
    {
      "cell_type": "code",
      "metadata": {
        "id": "PnF-c-_3XsKu",
        "colab": {
          "base_uri": "https://localhost:8080/"
        },
        "outputId": "95347b28-6246-428f-be81-0a8c11707a26"
      },
      "source": [
        "close_data = df1[\"Close\"]\r\n",
        "close_data"
      ],
      "execution_count": null,
      "outputs": [
        {
          "output_type": "execute_result",
          "data": {
            "text/plain": [
              "Date\n",
              "2014-09-16      457.334015\n",
              "2014-09-17      424.440002\n",
              "2014-09-18      394.795990\n",
              "2014-09-19      408.903992\n",
              "2014-09-20      398.821014\n",
              "                  ...     \n",
              "2020-12-27    26272.294922\n",
              "2020-12-28    27084.808594\n",
              "2020-12-29    27362.437500\n",
              "2020-12-30    28840.953125\n",
              "2020-12-31    29001.720703\n",
              "Name: Close, Length: 2298, dtype: float64"
            ]
          },
          "metadata": {
            "tags": []
          },
          "execution_count": 25
        }
      ]
    },
    {
      "cell_type": "code",
      "metadata": {
        "colab": {
          "base_uri": "https://localhost:8080/"
        },
        "id": "a9Lcq325lvCC",
        "outputId": "2e71b0e0-c82c-45cf-eae2-9c96bff34fec"
      },
      "source": [
        "close_data = np.array(close_data).reshape(-1, 1)\r\n",
        "scaler2 = MinMaxScaler(feature_range=(0,1))\r\n",
        "scaled_close = scaler2.fit_transform(close_data)\r\n",
        "scaled_close"
      ],
      "execution_count": null,
      "outputs": [
        {
          "output_type": "execute_result",
          "data": {
            "text/plain": [
              "array([[0.00968758],\n",
              "       [0.00854636],\n",
              "       [0.0075179 ],\n",
              "       ...,\n",
              "       [0.94312708],\n",
              "       [0.99442237],\n",
              "       [1.        ]])"
            ]
          },
          "metadata": {
            "tags": []
          },
          "execution_count": 26
        }
      ]
    },
    {
      "cell_type": "code",
      "metadata": {
        "colab": {
          "base_uri": "https://localhost:8080/"
        },
        "id": "Gn0Vb7HipBfe",
        "outputId": "4ecea122-903b-4728-b54f-8ff82f0f2049"
      },
      "source": [
        "last_sixty_vals = scaled_close[-60:]\r\n",
        "next_pred = np.array(last_sixty_vals).reshape(1, 60, -1) #reshape to correct config for model interpretation, model expects 3D data\r\n",
        "next_pred.shape"
      ],
      "execution_count": null,
      "outputs": [
        {
          "output_type": "execute_result",
          "data": {
            "text/plain": [
              "(1, 60, 1)"
            ]
          },
          "metadata": {
            "tags": []
          },
          "execution_count": 27
        }
      ]
    },
    {
      "cell_type": "code",
      "metadata": {
        "colab": {
          "base_uri": "https://localhost:8080/"
        },
        "id": "FZv1864jpdKf",
        "outputId": "fd1bf58b-ea17-46ce-e03b-514cb1ed2ac7"
      },
      "source": [
        "tomorrow_scaled = model.predict(next_pred)\r\n",
        "tomorrow_scaled"
      ],
      "execution_count": null,
      "outputs": [
        {
          "output_type": "execute_result",
          "data": {
            "text/plain": [
              "array([[0.85417825]], dtype=float32)"
            ]
          },
          "metadata": {
            "tags": []
          },
          "execution_count": 28
        }
      ]
    },
    {
      "cell_type": "code",
      "metadata": {
        "colab": {
          "base_uri": "https://localhost:8080/"
        },
        "id": "fDqXJI6qqIGf",
        "outputId": "ea8b6a28-7d1c-4ded-c4ba-383ef346a46c"
      },
      "source": [
        "inv_convert = scaler2.inverse_transform(tomorrow_scaled)\r\n",
        "inv_convert\r\n"
      ],
      "execution_count": null,
      "outputs": [
        {
          "output_type": "execute_result",
          "data": {
            "text/plain": [
              "array([[24798.611]], dtype=float32)"
            ]
          },
          "metadata": {
            "tags": []
          },
          "execution_count": 29
        }
      ]
    },
    {
      "cell_type": "markdown",
      "metadata": {
        "id": "CJybAgWIsLWJ"
      },
      "source": [
        "Now compare to the last predicted value to see the trend.\r\n"
      ]
    },
    {
      "cell_type": "code",
      "metadata": {
        "colab": {
          "base_uri": "https://localhost:8080/"
        },
        "id": "AkXjn87SqiZp",
        "outputId": "3f24bc78-2f32-41ab-bff9-b68ecb3ef624"
      },
      "source": [
        "last_pred = testing_df.iloc[-1, 1]\r\n",
        "last_pred"
      ],
      "execution_count": null,
      "outputs": [
        {
          "output_type": "execute_result",
          "data": {
            "text/plain": [
              "23545.99226136743"
            ]
          },
          "metadata": {
            "tags": []
          },
          "execution_count": 30
        }
      ]
    },
    {
      "cell_type": "code",
      "metadata": {
        "colab": {
          "base_uri": "https://localhost:8080/"
        },
        "id": "KZXnwUHSu9nm",
        "outputId": "318e81ea-7306-4780-96c4-504af1902588"
      },
      "source": [
        "delta_val = inv_convert - last_pred\r\n",
        "delta_val"
      ],
      "execution_count": null,
      "outputs": [
        {
          "output_type": "execute_result",
          "data": {
            "text/plain": [
              "array([[1252.6191]], dtype=float32)"
            ]
          },
          "metadata": {
            "tags": []
          },
          "execution_count": 31
        }
      ]
    },
    {
      "cell_type": "markdown",
      "metadata": {
        "id": "a_BfQTL4vQwi"
      },
      "source": [
        "So the model predicts that the price will go up ~1000 in the next observation (however long that is)."
      ]
    },
    {
      "cell_type": "markdown",
      "metadata": {
        "id": "S8j0ByNUvoWd"
      },
      "source": [
        "Theoretically you can create endless datasets for prediction/forecasting any amount of time into the future. By adding the prediction to the existing dataset, you can create another x value dataset from which the model can predict. But model inaccuracies mean that the further the forecast, and the greater the error, the more likely it will be incorrect. The only way to minimise this is to ensure a minimal forecasting window, and continuously updating the true values and retraining the model. We we create a function to forecast future values."
      ]
    },
    {
      "cell_type": "code",
      "metadata": {
        "id": "0-IHpDy2qkYi"
      },
      "source": [
        "def prediction_function(model, data, window_size=25, n_forecast_days=7):\r\n",
        "  functional_window = window_size*-1    #changes window size to be used for negative indexing\r\n",
        "  forecast_index = n_forecast_days*-1   #changes window to negative so it can be used for indexing\r\n",
        "  features = data[functional_window:].reshape(1, window_size, -1)\r\n",
        "  for num in range(1, n_forecast_days+1):   #iteration of rolling for number of forecast days\r\n",
        "    predicted_val = model.predict(features) # use the model to predict\r\n",
        "    features.flatten()                           #flatten the array so the predicted value can be appended\r\n",
        "    features = np.append(features, predicted_val)   #append predicted value\r\n",
        "    features = np.delete(features, 0)             #delete the first value\r\n",
        "    features = features.reshape(1, window_size, -1)  #reshape to use again in the iteration\r\n",
        "  return features.flatten()[forecast_index:]             #return only the predicted values\r\n"
      ],
      "execution_count": null,
      "outputs": []
    },
    {
      "cell_type": "code",
      "metadata": {
        "id": "EGzD3AqLssyU"
      },
      "source": [
        "continuous_predictions = prediction_function(model, y_test, window_size=60, n_forecast_days=10)\r\n",
        "full_pred_set = np.append(preds, continuous_predictions) "
      ],
      "execution_count": null,
      "outputs": []
    },
    {
      "cell_type": "markdown",
      "metadata": {
        "id": "_XlwdMlO7CTG"
      },
      "source": [
        "Now we can visualise the predictions"
      ]
    },
    {
      "cell_type": "code",
      "metadata": {
        "colab": {
          "base_uri": "https://localhost:8080/",
          "height": 334
        },
        "id": "uj8krgqx2zBD",
        "outputId": "31cb1397-5f82-465a-920c-dc50f04e6c10"
      },
      "source": [
        "plt.figure(figsize=(15, 5))\r\n",
        "plt.plot(y_test, color='blue', label=\"Close data\")\r\n",
        "plt.plot(full_pred_set, color='red', label=\"Forecast from model\")\r\n",
        "plt.plot(preds, color=\"orange\", label=\"Predicted\")\r\n",
        "plt.ylabel(\"Scaled value\")\r\n",
        "plt.xlabel(\"Obseravtions\")\r\n",
        "plt.legend()\r\n",
        "plt.show()"
      ],
      "execution_count": null,
      "outputs": [
        {
          "output_type": "display_data",
          "data": {
            "image/png": "[encoded data removed]",
            "text/plain": [
              "<Figure size 1080x360 with 1 Axes>"
            ]
          },
          "metadata": {
            "tags": [],
            "needs_background": "light"
          }
        }
      ]
    },
    {
      "cell_type": "markdown",
      "metadata": {
        "id": "-f_QBejbB12L"
      },
      "source": [
        "This shows that recurring prediction amplifies the error, causing the forecast to actually predict a sharp drop. This is because the model under predicts the value. Given that every time we add a value to the dataset by forecasting, it under estimates the value, which is then compounded the next time we use the dataset to predict from the model. In this instance we can see that the under-estimated prediction causes a significant drop in forecasted value. If it happened that we over predicted the close price with the model, we could expect a sharp rise in value with increased forecasting."
      ]
    },
    {
      "cell_type": "code",
      "metadata": {
        "id": "TM8d72TE8KJv"
      },
      "source": [
        ""
      ],
      "execution_count": null,
      "outputs": []
    }
  ]
}